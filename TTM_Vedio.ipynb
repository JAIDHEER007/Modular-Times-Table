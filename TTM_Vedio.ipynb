{
  "nbformat": 4,
  "nbformat_minor": 0,
  "metadata": {
    "colab": {
      "name": "TTM_Vedio.ipynb",
      "provenance": [],
      "collapsed_sections": [],
      "authorship_tag": "ABX9TyOT00HPQNEXzse7KN5tZH+7",
      "include_colab_link": true
    },
    "kernelspec": {
      "name": "python3",
      "display_name": "Python 3"
    },
    "language_info": {
      "name": "python"
    }
  },
  "cells": [
    {
      "cell_type": "markdown",
      "metadata": {
        "id": "view-in-github",
        "colab_type": "text"
      },
      "source": [
        "<a href=\"https://colab.research.google.com/github/JAIDHEER007/Modular-Times-Table/blob/main/TTM_Vedio.ipynb\" target=\"_parent\"><img src=\"https://colab.research.google.com/assets/colab-badge.svg\" alt=\"Open In Colab\"/></a>"
      ]
    },
    {
      "cell_type": "code",
      "execution_count": 5,
      "metadata": {
        "id": "PBLEzJTQRM_t"
      },
      "outputs": [],
      "source": [
        "from PIL import Image\n",
        "from PIL import ImageDraw\n",
        "from PIL import ImageFont\n",
        "from math import sin, cos, sqrt, radians\n",
        "from IPython.display import display\n",
        "import urllib.request\n",
        "\n",
        "import os\n",
        "from os.path import join\n",
        "import datetime\n",
        "\n",
        "import os\n",
        "import cv2\n",
        "import re"
      ]
    },
    {
      "cell_type": "code",
      "source": [
        "def createFolder(divisions, k) -> str:\n",
        "    # Current Working Directory\n",
        "    pdir = os.getcwd()\n",
        "    \n",
        "    #Getting Current Time\n",
        "    curr = datetime.datetime.now()\n",
        "    dateStr = str(curr.date())\n",
        "    timeStr = str(curr.time())\n",
        "\n",
        "    #Folder name\n",
        "    directory = \"RUN_\" + dateStr.replace('-','_') + \"_\" + timeStr.replace(':', '_')\n",
        "    \n",
        "    #Final Path\n",
        "    fpath = join(pdir, directory)\n",
        "    \n",
        "    #Creating the directory\n",
        "    os.mkdir(fpath)\n",
        "    \n",
        "    # Creating the Images SubFolder\n",
        "    imgPath = join(fpath, 'Images')\n",
        "    os.mkdir(imgPath)\n",
        "    \n",
        "    # Writing usefull files\n",
        "    info = \"\"\"\n",
        "           author: S.Jaidheer\n",
        "           github: JAIDHEER007\n",
        "           \n",
        "           Implementing Modular Times Tables\n",
        "           \n",
        "           INFO\n",
        "           =====================================================\n",
        "           Date: {fdate}\n",
        "           time: {ftime}\n",
        "            \n",
        "           Divisions: {fdivs}\n",
        "           K: {kval}\n",
        "           \n",
        "           Images will be saved in Images Folder\n",
        "           Once the program ends, Execute makeVideo.py program\n",
        "           \"\"\".format(fdate = dateStr, ftime = timeStr, fdivs = divisions, kval = k)\n",
        "           \n",
        "    with open(join(fpath, 'info.txt'), 'w') as fileHandle:\n",
        "        fileHandle.writelines(info)\n",
        "           \n",
        "    return fpath\n"
      ],
      "metadata": {
        "id": "Wl2zAT8ZRT3-"
      },
      "execution_count": 6,
      "outputs": []
    },
    {
      "cell_type": "code",
      "source": [
        "class timeTableM:\n",
        "    def __init__(self, size, divisions, k, lwidth = 1, cwidth = 2):\n",
        "        self.size = size\n",
        "        self.divisions = divisions\n",
        "        self.k = k\n",
        "        self.radius = sqrt((self.size[0] ** 2) + (self.size[1] ** 2)) // 3.5\n",
        "        self.theta = 360 / self.divisions\n",
        "        self.__lwidth = lwidth\n",
        "        self.__cwidth = cwidth\n",
        "\n",
        "        self._fpath = createFolder(self.divisions, self.k)\n",
        "        print(self._fpath)\n",
        "        self._imgPath = join(self._fpath, 'Images')\n",
        "\n",
        "        self.__coordinates = []\n",
        "        shiftX = -(self.size[0] / 2)\n",
        "        shiftY = self.size[1] / 2\n",
        "\n",
        "        for i in range(self.divisions):\n",
        "            rad = radians(i * self.theta)\n",
        "            self.__coordinates.append(((self.radius * cos(rad)) - shiftX, shiftY - (self.radius * sin(rad))))\n",
        "\n",
        "        self.__baseImage = Image.new(mode = 'RGB', size = size)\n",
        "        draw = ImageDraw.Draw(im = self.__baseImage)\n",
        "        center = (self.size[0] // 2, self.size[1] // 2)\n",
        "        leftCorner = (center[0] - self.radius, center[1] - self.radius)\n",
        "        rightCorner = (center[0] + self.radius, center[1] + self.radius)\n",
        "\n",
        "        boundingBox = [leftCorner, rightCorner]\n",
        "        draw.ellipse(xy = boundingBox, fill = None, outline = (255, 255, 255), width = self.__cwidth)\n",
        "\n",
        "        fontUrl = 'https://www.1001fonts.com/download/font/open-sans.regular.ttf'\n",
        "        # fontUrl = 'https://www.1001fonts.com/download/font/open-sans.italic.ttf'\n",
        "\n",
        "        urllib.request.urlretrieve(fontUrl, 'font.ttf')\n",
        "\n",
        "        # Manual Editing\n",
        "        # Plans to automate it\n",
        "        self.__textX = 100\n",
        "        self.__textY = self.size[1] - 100\n",
        "        self.__fontSize = 50\n",
        "\n",
        "    def showBaseImage(self):\n",
        "        display(self.__baseImage)\n",
        "\n",
        "    def showBaseImageText(self):\n",
        "        img = self.__baseImage.copy()\n",
        "        draw = ImageDraw.Draw(im = img)\n",
        "        customFont = ImageFont.truetype('/content/font.ttf', self.__fontSize)\n",
        "        text = \"Divisions: 553  K: 007\"\n",
        "        draw.text(xy = (self.__textX, self.__textY),font = customFont, text = text, fill = (255, 255, 255))\n",
        "        display(img)\n",
        "\n",
        "\n",
        "    def start(self):\n",
        "        img = self.__baseImage.copy()\n",
        "        draw = ImageDraw.Draw(im = img)\n",
        "        customFont = ImageFont.truetype('font.ttf', self.__fontSize)\n",
        "        text = \"Divisions: {divs}  Division: {div}  K: {kval}\"\n",
        "        for i in range(self.divisions):\n",
        "            draw.line(xy = [self.__coordinates[i], self.__coordinates[(i * self.k) % self.divisions]], fill = (0, 0, 255), width = self.__lwidth)\n",
        "            \n",
        "            textImg = img.copy()\n",
        "            textDraw = ImageDraw.Draw(im = textImg)\n",
        "            textDraw.text(xy = (self.__textX, self.__textY),font = customFont, text = text.format(divs = self.divisions, div = i, kval = self.k), fill = (255, 255, 255))\n",
        "\n",
        "            textImg.save(join(self._imgPath, 'testImg_{div}.png'.format(div = i)))\n",
        "    \n",
        "    def saveVedio(self):\n",
        "        video_name = join(self._fpath, \"Vedio_{divs}_{kval}.mp4\".format(divs = self.divisions, kval = self.k))\n",
        "\n",
        "        images = [img for img in os.listdir(self._imgPath) if img.endswith(\".png\")]\n",
        "\n",
        "        pattern = re.compile(r'[0-9]+')\n",
        "        images.sort(key = lambda image: int(pattern.findall(image)[-1]))\n",
        "\n",
        "        frame = cv2.imread(os.path.join(self._imgPath, images[0]))\n",
        "\n",
        "        height, width = frame.shape[:2]\n",
        "\n",
        "        fourcc = cv2.VideoWriter_fourcc(*'mp4v')\n",
        "        video = cv2.VideoWriter(video_name, fourcc, 35, (width, height)) \n",
        "\n",
        "        for image in images:\n",
        "            video.write(cv2.imread(os.path.join(self._imgPath, image)))\n",
        "\n",
        "        cv2.destroyAllWindows() \n",
        "        video.release()\n",
        "    "
      ],
      "metadata": {
        "id": "3uhdqe9nRY6l"
      },
      "execution_count": 7,
      "outputs": []
    },
    {
      "cell_type": "code",
      "source": [
        "divisions = 200\n",
        "k = 2\n",
        "ttm = timeTableM(size = (2000, 2000), divisions = divisions, k = k, cwidth = 3)"
      ],
      "metadata": {
        "id": "ck8NIu6gRmVt",
        "colab": {
          "base_uri": "https://localhost:8080/"
        },
        "outputId": "dca37ab6-9bfb-40ce-eb9e-53ebc8ade21c"
      },
      "execution_count": 8,
      "outputs": [
        {
          "output_type": "stream",
          "name": "stdout",
          "text": [
            "/content/RUN_2022_01_06_08_24_59.488086\n"
          ]
        }
      ]
    },
    {
      "cell_type": "code",
      "source": [
        "ttm.start()\n",
        "ttm.saveVedio()"
      ],
      "metadata": {
        "id": "hamSxSufRoS-"
      },
      "execution_count": 9,
      "outputs": []
    }
  ]
}