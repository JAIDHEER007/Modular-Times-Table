{
  "nbformat": 4,
  "nbformat_minor": 0,
  "metadata": {
    "colab": {
      "name": "TTM_File",
      "provenance": [],
      "authorship_tag": "ABX9TyOfnCy3XywRhbl37IFYSIog",
      "include_colab_link": true
    },
    "kernelspec": {
      "name": "python3",
      "display_name": "Python 3"
    },
    "language_info": {
      "name": "python"
    }
  },
  "cells": [
    {
      "cell_type": "markdown",
      "metadata": {
        "id": "view-in-github",
        "colab_type": "text"
      },
      "source": [
        "<a href=\"https://colab.research.google.com/github/JAIDHEER007/Modular-Times-Table/blob/main/TTM_File.ipynb\" target=\"_parent\"><img src=\"https://colab.research.google.com/assets/colab-badge.svg\" alt=\"Open In Colab\"/></a>"
      ]
    },
    {
      "cell_type": "code",
      "metadata": {
        "id": "qs3T_toyA0xM"
      },
      "source": [
        "from PIL import Image\n",
        "from PIL import ImageDraw\n",
        "from PIL import ImageFont\n",
        "from math import sin, cos, sqrt, radians\n",
        "from IPython.display import display\n",
        "import urllib.request\n",
        "\n",
        "import os\n",
        "from os.path import join\n",
        "import datetime"
      ],
      "execution_count": 31,
      "outputs": []
    },
    {
      "cell_type": "code",
      "metadata": {
        "id": "HXbFKMvEBGjH"
      },
      "source": [
        "def createFolder(divisions) -> str:\n",
        "    # Current Working Directory\n",
        "    pdir = os.getcwd()\n",
        "    \n",
        "    #Getting Current Time\n",
        "    curr = datetime.datetime.now()\n",
        "    dateStr = str(curr.date())\n",
        "    timeStr = str(curr.time())\n",
        "\n",
        "    #Folder name\n",
        "    directory = \"RUN_\" + dateStr.replace('-','_') + \"_\" + timeStr.replace(':', '_')\n",
        "    \n",
        "    #Final Path\n",
        "    fpath = join(pdir, directory)\n",
        "    \n",
        "    #Creating the directory\n",
        "    os.mkdir(fpath)\n",
        "    \n",
        "    # Creating the Images SubFolder\n",
        "    imgPath = join(fpath, 'Images')\n",
        "    os.mkdir(imgPath)\n",
        "    \n",
        "    # Writing usefull files\n",
        "    info = \"\"\"\n",
        "           author: S.Jaidheer\n",
        "           github: JAIDHEER007\n",
        "           \n",
        "           Implementing Jhon Conway's Game of Life using Python\n",
        "           \n",
        "           INFO\n",
        "           =====================================================\n",
        "           Date: {fdate}\n",
        "           time: {ftime}\n",
        "            \n",
        "           Divisions: {fdivs}\n",
        "           \n",
        "           Images will be saved in Images Folder\n",
        "           Once the program ends, Execute makeVideo.py program\n",
        "           \"\"\".format(fdate = dateStr, ftime = timeStr, fdivs = divisions)\n",
        "           \n",
        "    with open(join(fpath, 'info.txt'), 'w') as fileHandle:\n",
        "        fileHandle.writelines(info)\n",
        "           \n",
        "    return fpath\n"
      ],
      "execution_count": 32,
      "outputs": []
    },
    {
      "cell_type": "code",
      "metadata": {
        "id": "uwXZ9WNrCWT2"
      },
      "source": [
        "class timeTableM:\n",
        "    def __init__(self, size, divisions, lwidth = 1, cwidth = 2):\n",
        "        self.size = size\n",
        "        self.divisions = divisions\n",
        "        self.radius = sqrt((self.size[0] ** 2) + (self.size[1] ** 2)) // 3.5\n",
        "        self.theta = 360 / self.divisions\n",
        "        self.__lwidth = lwidth\n",
        "        self.__cwidth = cwidth\n",
        "\n",
        "        self.__coordinates = []\n",
        "        shiftX = -(self.size[0] / 2)\n",
        "        shiftY = self.size[1] / 2\n",
        "\n",
        "        for i in range(self.divisions):\n",
        "            rad = radians(i * self.theta)\n",
        "            self.__coordinates.append(((self.radius * cos(rad)) - shiftX, shiftY - (self.radius * sin(rad))))\n",
        "\n",
        "        self.__baseImage = Image.new(mode = 'RGB', size = size)\n",
        "        draw = ImageDraw.Draw(im = self.__baseImage)\n",
        "        center = (self.size[0] // 2, self.size[1] // 2)\n",
        "        leftCorner = (center[0] - self.radius, center[1] - self.radius)\n",
        "        rightCorner = (center[0] + self.radius, center[1] + self.radius)\n",
        "\n",
        "        boundingBox = [leftCorner, rightCorner]\n",
        "        draw.ellipse(xy = boundingBox, fill = None, outline = (255, 255, 255), width = self.__cwidth)\n",
        "\n",
        "        fontUrl = 'https://github.com/ProgrammingFonts/ProgrammingFonts/raw/master/Droid-Sans-Mono/droid-sans-mono-1.00/Droid%20Sans%20Mono.ttf'\n",
        "        urllib.request.urlretrieve(fontUrl, 'font.ttf')\n",
        "\n",
        "        # Manual Editing\n",
        "        # Plans to automate it\n",
        "        self.__textX = 100\n",
        "        self.__textY = self.size[1] - 100\n",
        "        self.__fontSize = 50\n",
        "\n",
        "    def showBaseImage(self):\n",
        "        display(self.__baseImage)\n",
        "\n",
        "    def showBaseImageText(self):\n",
        "        img = self.__baseImage.copy()\n",
        "        draw = ImageDraw.Draw(im = img)\n",
        "        customFont = ImageFont.truetype('font.ttf', self.__fontSize)\n",
        "        text = \"Divisions: 553  K: 007\"\n",
        "        draw.text(xy = (self.__textX, self.__textY),font = customFont, text = text, fill = (255, 255, 255))\n",
        "        display(img)\n",
        "\n",
        "\n",
        "    def getOutput(self, k):\n",
        "        img = self.__baseImage.copy()\n",
        "        draw = ImageDraw.Draw(im = img)\n",
        "        for i in range(self.divisions):\n",
        "            draw.line(xy = [self.__coordinates[i], self.__coordinates[(i * k) % self.divisions]], fill = (0, 0, 255), width = self.__lwidth)\n",
        "        return img\n",
        "\n",
        "    def getOutputText(self, k):\n",
        "        img = self.getOutput(k)\n",
        "        draw = ImageDraw.Draw(im = img)\n",
        "        customFont = ImageFont.truetype('font.ttf', self.__fontSize)\n",
        "        text = \"Divisions: {div}  K: {kval}\".format(div = self.divisions, kval = k)\n",
        "        draw.text(xy = (self.__textX, self.__textY),font = customFont, text = text, fill = (255, 255, 255))\n",
        "        return img"
      ],
      "execution_count": 33,
      "outputs": []
    },
    {
      "cell_type": "code",
      "metadata": {
        "id": "7tKkylt-B4Ed"
      },
      "source": [
        "divisions = 557\n",
        "ttm = timeTableM(size = (2000, 2000), divisions = divisions, cwidth = 3)\n",
        "fpath = createFolder(divisions)\n",
        "imgPath = join(fpath, 'Images')"
      ],
      "execution_count": 34,
      "outputs": []
    },
    {
      "cell_type": "code",
      "metadata": {
        "colab": {
          "base_uri": "https://localhost:8080/"
        },
        "id": "uIIk0MMWQ9ZJ",
        "outputId": "e0145c49-1142-4d4f-f9fc-91686a815bec"
      },
      "source": [
        "print(fpath)\n",
        "print(imgPath)"
      ],
      "execution_count": 35,
      "outputs": [
        {
          "output_type": "stream",
          "name": "stdout",
          "text": [
            "/content/RUN_2021_11_28_18_33_58.483887\n",
            "/content/RUN_2021_11_28_18_33_58.483887/Images\n"
          ]
        }
      ]
    },
    {
      "cell_type": "code",
      "metadata": {
        "id": "BY5e7O7HCsJQ"
      },
      "source": [
        "for k in range(51):\n",
        "    img = ttm.getOutputText(k)\n",
        "    img.save(join(imgPath, 'testImg{kval}.png'.format(kval = k)))"
      ],
      "execution_count": 36,
      "outputs": []
    },
    {
      "cell_type": "markdown",
      "metadata": {
        "id": "nqDq2bkGEbB-"
      },
      "source": [
        "## Joining Drive"
      ]
    },
    {
      "cell_type": "code",
      "metadata": {
        "id": "UoI6eWJADyNi"
      },
      "source": [
        "# from google.colab import drive\n",
        "# drive.mount('/content/drive/')\n",
        "# os.system('cp -r \"{filePath}\" \"/content/drive/MyDrive\"'.format(filePath = fpath))\n",
        "# os.system('rm -r \"{filePath}\"'.format(filePath = fpath))"
      ],
      "execution_count": 37,
      "outputs": []
    }
  ]
}